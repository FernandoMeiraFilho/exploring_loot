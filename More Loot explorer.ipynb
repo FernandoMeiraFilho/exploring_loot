{
 "cells": [
  {
   "cell_type": "code",
   "execution_count": 17,
   "metadata": {},
   "outputs": [],
   "source": [
    "import pandas as pd\n",
    "from web3 import Web3\n",
    "import yaml\n",
    "import seaborn as sns"
   ]
  },
  {
   "cell_type": "markdown",
   "metadata": {},
   "source": [
    "## Conecting to local node"
   ]
  },
  {
   "cell_type": "code",
   "execution_count": 15,
   "metadata": {},
   "outputs": [
    {
     "data": {
      "text/plain": [
       "True"
      ]
     },
     "execution_count": 15,
     "metadata": {},
     "output_type": "execute_result"
    }
   ],
   "source": [
    "with open(r'provider_key.yaml') as file:\n",
    "    provider_params = yaml.load(file, Loader=yaml.FullLoader)\n",
    "alchemy = provider_params['key']\n",
    "w3 = Web3(Web3.HTTPProvider(alchemy))\n",
    "\n",
    "w3.isConnected()"
   ]
  },
  {
   "cell_type": "markdown",
   "metadata": {},
   "source": [
    "## Loading data"
   ]
  },
  {
   "cell_type": "code",
   "execution_count": 3,
   "metadata": {},
   "outputs": [
    {
     "data": {
      "text/html": [
       "<div>\n",
       "<style scoped>\n",
       "    .dataframe tbody tr th:only-of-type {\n",
       "        vertical-align: middle;\n",
       "    }\n",
       "\n",
       "    .dataframe tbody tr th {\n",
       "        vertical-align: top;\n",
       "    }\n",
       "\n",
       "    .dataframe thead th {\n",
       "        text-align: right;\n",
       "    }\n",
       "</style>\n",
       "<table border=\"1\" class=\"dataframe\">\n",
       "  <thead>\n",
       "    <tr style=\"text-align: right;\">\n",
       "      <th></th>\n",
       "      <th>lootId</th>\n",
       "      <th>score</th>\n",
       "      <th>rarest</th>\n",
       "    </tr>\n",
       "  </thead>\n",
       "  <tbody>\n",
       "    <tr>\n",
       "      <td>0</td>\n",
       "      <td>1091542</td>\n",
       "      <td>40.277757</td>\n",
       "      <td>1</td>\n",
       "    </tr>\n",
       "    <tr>\n",
       "      <td>1</td>\n",
       "      <td>884118</td>\n",
       "      <td>39.427093</td>\n",
       "      <td>2</td>\n",
       "    </tr>\n",
       "    <tr>\n",
       "      <td>2</td>\n",
       "      <td>435990</td>\n",
       "      <td>39.409585</td>\n",
       "      <td>3</td>\n",
       "    </tr>\n",
       "    <tr>\n",
       "      <td>3</td>\n",
       "      <td>549134</td>\n",
       "      <td>37.910700</td>\n",
       "      <td>4</td>\n",
       "    </tr>\n",
       "    <tr>\n",
       "      <td>4</td>\n",
       "      <td>868454</td>\n",
       "      <td>37.862941</td>\n",
       "      <td>5</td>\n",
       "    </tr>\n",
       "  </tbody>\n",
       "</table>\n",
       "</div>"
      ],
      "text/plain": [
       "    lootId      score  rarest\n",
       "0  1091542  40.277757       1\n",
       "1   884118  39.427093       2\n",
       "2   435990  39.409585       3\n",
       "3   549134  37.910700       4\n",
       "4   868454  37.862941       5"
      ]
     },
     "execution_count": 3,
     "metadata": {},
     "output_type": "execute_result"
    }
   ],
   "source": [
    "data = pd.read_json('probability.json')\n",
    "data.head()"
   ]
  },
  {
   "cell_type": "markdown",
   "metadata": {},
   "source": [
    "# Finding opportunities"
   ]
  },
  {
   "cell_type": "markdown",
   "metadata": {},
   "source": [
    "This is a script to find the first rare more_loot pice that is still available"
   ]
  },
  {
   "cell_type": "markdown",
   "metadata": {},
   "source": [
    "### **Checking all unclaimed rarest bags**"
   ]
  },
  {
   "cell_type": "code",
   "execution_count": null,
   "metadata": {},
   "outputs": [],
   "source": [
    "address = '0x1dfe7Ca09e99d10835Bf73044a23B73Fc20623DF'\n",
    "with open('more_loot_abi.json', 'r') as file:\n",
    "    abi = file.read()\n",
    "\n",
    "mloot = w3.eth.contract(address=address, abi=abi)\n",
    "mloot.functions.totalSupply().call()"
   ]
  },
  {
   "cell_type": "markdown",
   "metadata": {},
   "source": [
    "#### **Execution**"
   ]
  },
  {
   "cell_type": "code",
   "execution_count": null,
   "metadata": {},
   "outputs": [],
   "source": [
    "data.loc[:, 'current_owner'] = ''\n",
    "curr_owners = []\n",
    "for index, row in data.iterrows():\n",
    "    try:\n",
    "        owner = mloot.functions.ownerOf(row['lootId']).call()\n",
    "    except Exception as e:\n",
    "        print(f\" #### Just flagged loot:{row['lootId']}, might be a candidate ### /n\")\n",
    "        owner = ''\n",
    "    \n",
    "    if owner != '':\n",
    "        curr_owners.append(owner)\n",
    "        #print(f\"..tried loot: {row['lootId']}, but there is an owner already: {owner}\")\n",
    "    else:\n",
    "        print(f\" #### Try:{row['lootId']}, score:{row['score']}, rarest order:{row['rarest']} !!### /n\")\n",
    "        curr_owners.append('possible candidate')"
   ]
  },
  {
   "cell_type": "markdown",
   "metadata": {},
   "source": [
    "### **Scraping some recent offers on open sean to spot rare bags being sold for cheap**"
   ]
  },
  {
   "cell_type": "markdown",
   "metadata": {},
   "source": [
    "#### **Creating the functions to get and check the data**"
   ]
  },
  {
   "cell_type": "code",
   "execution_count": 4,
   "metadata": {},
   "outputs": [],
   "source": [
    "max_target = 1387\n",
    "\n",
    "selected_ids = data.loc[data.rarest<=max_target, :]\n",
    "selected_ids_formated = [str(id) for id in selected_ids.loc[:, 'lootId'].values]"
   ]
  },
  {
   "cell_type": "code",
   "execution_count": 5,
   "metadata": {},
   "outputs": [],
   "source": [
    "import requests\n",
    "import json\n",
    "from decimal import Decimal\n",
    "\n",
    "def make_query(ids:list, offset_:str=\"0\"):\n",
    "    #https://docs.opensea.io/reference/retrieving-orders\n",
    "    \n",
    "    url = \"https://api.opensea.io/wyvern/v1/orders\"\n",
    "    querystring = {\"asset_contract_address\":\"0x1dfe7Ca09e99d10835Bf73044a23B73Fc20623DF\",\n",
    "               \"token_ids\": ids,\n",
    "               \"sale_kind\": 0,\n",
    "               \"side\":1,\n",
    "               \"is_english\": \"false\",\n",
    "               \"bundled\":\"false\",\n",
    "               \"include_bundled\":\"false\",\n",
    "               \"include_invalid\":\"false\",\n",
    "               \"limit\":\"50\",\n",
    "               \"offset\":offset_,\n",
    "               \"order_by\":\"created_date\",\n",
    "               \"order_direction\":\"desc\"}\n",
    "\n",
    "    headers = {\"Accept\": \"application/json\"}\n",
    "\n",
    "    response = requests.request(\"GET\", url, headers=headers, params=querystring)\n",
    "    try:\n",
    "        formated_response = json.loads(response.text)['orders']\n",
    "    except KeyError:\n",
    "        formated_response = []\n",
    "    \n",
    "    return formated_response\n",
    "\n",
    "def extract_order(order_list:list):\n",
    "    orders_final = []\n",
    "    for order in order_list:\n",
    "        orders_final.append({\n",
    "            \"lootId\": int(order[\"asset\"][\"token_id\"]),\n",
    "            \"listing_create_date\": order[\"created_date\"],\n",
    "            \"price_ETH\": float((Decimal(order[\"current_price\"]) / 10 ** 18).to_eng_string())\n",
    "        })\n",
    "    return orders_final\n",
    "        \n",
    "\n",
    "def check_candidates_offers(candidates_list:list):\n",
    "    candidates_number = len(candidates_list)\n",
    "    number_of_loops = candidates_number / 30 # 30 max length for OpenSea  token_ids[] \n",
    "   \n",
    "    checked_candidates = []\n",
    "    \n",
    "    candidates_count = 0\n",
    "    while candidates_count <= candidates_number:\n",
    "        candidates_upper_band = candidates_count + 30\n",
    "        data = make_query(ids=candidates_list[candidates_count: candidates_upper_band], offset_=\"0\")\n",
    "        \n",
    "        if (data != []):\n",
    "            if (len(data)==50):\n",
    "                extracted_data = extract_order(data)\n",
    "                checked_candidates += extracted_data\n",
    "                \n",
    "                offset_counter = 50\n",
    "                length_new_query = 1\n",
    "                while length_new_query > 0:\n",
    "                    new_query = make_query(ids=candidates_list[candidates_count: candidates_upper_band], offset_=str(offset_counter))\n",
    "                    if (new_query == []):\n",
    "                        length_new_query = 0\n",
    "                    else:\n",
    "                        extracted_new_query = extract_order(new_query)\n",
    "                        checked_candidates += extracted_new_query\n",
    "                        offset_counter += 50\n",
    "            else:\n",
    "                extracted_data = extract_order(data)\n",
    "                checked_candidates += extracted_data\n",
    "        \n",
    "        candidates_count += 30\n",
    "    \n",
    "    return checked_candidates\n",
    "                \n",
    "                \n",
    "#make_query(ids=selected_ids_formated[:30], offset_=\"0\")"
   ]
  },
  {
   "cell_type": "markdown",
   "metadata": {},
   "source": [
    "#### **Playing with the results**"
   ]
  },
  {
   "cell_type": "code",
   "execution_count": 6,
   "metadata": {},
   "outputs": [
    {
     "data": {
      "text/html": [
       "<div>\n",
       "<style scoped>\n",
       "    .dataframe tbody tr th:only-of-type {\n",
       "        vertical-align: middle;\n",
       "    }\n",
       "\n",
       "    .dataframe tbody tr th {\n",
       "        vertical-align: top;\n",
       "    }\n",
       "\n",
       "    .dataframe thead th {\n",
       "        text-align: right;\n",
       "    }\n",
       "</style>\n",
       "<table border=\"1\" class=\"dataframe\">\n",
       "  <thead>\n",
       "    <tr style=\"text-align: right;\">\n",
       "      <th></th>\n",
       "      <th>lootId</th>\n",
       "      <th>score</th>\n",
       "      <th>rarest</th>\n",
       "      <th>listing_create_date</th>\n",
       "      <th>price_ETH</th>\n",
       "    </tr>\n",
       "  </thead>\n",
       "  <tbody>\n",
       "    <tr>\n",
       "      <td>18</td>\n",
       "      <td>1302577</td>\n",
       "      <td>34.566702</td>\n",
       "      <td>19</td>\n",
       "      <td>2021-09-04T19:42:56.734914</td>\n",
       "      <td>2.0</td>\n",
       "    </tr>\n",
       "    <tr>\n",
       "      <td>31</td>\n",
       "      <td>458638</td>\n",
       "      <td>32.395416</td>\n",
       "      <td>32</td>\n",
       "      <td>2021-09-04T20:47:27.440201</td>\n",
       "      <td>5.0</td>\n",
       "    </tr>\n",
       "    <tr>\n",
       "      <td>53</td>\n",
       "      <td>100603</td>\n",
       "      <td>31.166084</td>\n",
       "      <td>54</td>\n",
       "      <td>2021-09-04T18:01:51.786994</td>\n",
       "      <td>1.0</td>\n",
       "    </tr>\n",
       "    <tr>\n",
       "      <td>83</td>\n",
       "      <td>11023</td>\n",
       "      <td>29.772761</td>\n",
       "      <td>84</td>\n",
       "      <td>2021-09-05T07:40:16.311218</td>\n",
       "      <td>1.0</td>\n",
       "    </tr>\n",
       "    <tr>\n",
       "      <td>84</td>\n",
       "      <td>11023</td>\n",
       "      <td>29.772761</td>\n",
       "      <td>84</td>\n",
       "      <td>2021-09-04T16:31:03.717083</td>\n",
       "      <td>100.0</td>\n",
       "    </tr>\n",
       "  </tbody>\n",
       "</table>\n",
       "</div>"
      ],
      "text/plain": [
       "     lootId      score  rarest         listing_create_date  price_ETH\n",
       "18  1302577  34.566702      19  2021-09-04T19:42:56.734914        2.0\n",
       "31   458638  32.395416      32  2021-09-04T20:47:27.440201        5.0\n",
       "53   100603  31.166084      54  2021-09-04T18:01:51.786994        1.0\n",
       "83    11023  29.772761      84  2021-09-05T07:40:16.311218        1.0\n",
       "84    11023  29.772761      84  2021-09-04T16:31:03.717083      100.0"
      ]
     },
     "execution_count": 6,
     "metadata": {},
     "output_type": "execute_result"
    }
   ],
   "source": [
    "checked_ids = check_candidates_offers(selected_ids_formated)\n",
    "checked_ids_dt = pd.DataFrame.from_records(checked_ids)\n",
    "\n",
    "selected_ids = selected_ids.merge(checked_ids_dt, on='lootId', how='left')\n",
    "listed_rare_ids = selected_ids.loc[selected_ids.price_ETH.notnull()]\n",
    "listed_rare_ids.head()"
   ]
  },
  {
   "cell_type": "markdown",
   "metadata": {},
   "source": [
    "Finding cheap opportunities"
   ]
  },
  {
   "cell_type": "code",
   "execution_count": 8,
   "metadata": {},
   "outputs": [
    {
     "data": {
      "text/html": [
       "<div>\n",
       "<style scoped>\n",
       "    .dataframe tbody tr th:only-of-type {\n",
       "        vertical-align: middle;\n",
       "    }\n",
       "\n",
       "    .dataframe tbody tr th {\n",
       "        vertical-align: top;\n",
       "    }\n",
       "\n",
       "    .dataframe thead th {\n",
       "        text-align: right;\n",
       "    }\n",
       "</style>\n",
       "<table border=\"1\" class=\"dataframe\">\n",
       "  <thead>\n",
       "    <tr style=\"text-align: right;\">\n",
       "      <th></th>\n",
       "      <th>lootId</th>\n",
       "      <th>score</th>\n",
       "      <th>rarest</th>\n",
       "      <th>listing_create_date</th>\n",
       "      <th>price_ETH</th>\n",
       "    </tr>\n",
       "  </thead>\n",
       "  <tbody>\n",
       "    <tr>\n",
       "      <td>18</td>\n",
       "      <td>1302577</td>\n",
       "      <td>34.566702</td>\n",
       "      <td>19</td>\n",
       "      <td>2021-09-04T19:42:56.734914</td>\n",
       "      <td>2.000</td>\n",
       "    </tr>\n",
       "    <tr>\n",
       "      <td>31</td>\n",
       "      <td>458638</td>\n",
       "      <td>32.395416</td>\n",
       "      <td>32</td>\n",
       "      <td>2021-09-04T20:47:27.440201</td>\n",
       "      <td>5.000</td>\n",
       "    </tr>\n",
       "    <tr>\n",
       "      <td>53</td>\n",
       "      <td>100603</td>\n",
       "      <td>31.166084</td>\n",
       "      <td>54</td>\n",
       "      <td>2021-09-04T18:01:51.786994</td>\n",
       "      <td>1.000</td>\n",
       "    </tr>\n",
       "    <tr>\n",
       "      <td>83</td>\n",
       "      <td>11023</td>\n",
       "      <td>29.772761</td>\n",
       "      <td>84</td>\n",
       "      <td>2021-09-05T07:40:16.311218</td>\n",
       "      <td>1.000</td>\n",
       "    </tr>\n",
       "    <tr>\n",
       "      <td>84</td>\n",
       "      <td>11023</td>\n",
       "      <td>29.772761</td>\n",
       "      <td>84</td>\n",
       "      <td>2021-09-04T16:31:03.717083</td>\n",
       "      <td>100.000</td>\n",
       "    </tr>\n",
       "    <tr>\n",
       "      <td>192</td>\n",
       "      <td>592440</td>\n",
       "      <td>27.780361</td>\n",
       "      <td>192</td>\n",
       "      <td>2021-09-05T13:55:21.416052</td>\n",
       "      <td>0.499</td>\n",
       "    </tr>\n",
       "    <tr>\n",
       "      <td>193</td>\n",
       "      <td>592440</td>\n",
       "      <td>27.780361</td>\n",
       "      <td>192</td>\n",
       "      <td>2021-09-05T02:19:00.106353</td>\n",
       "      <td>0.500</td>\n",
       "    </tr>\n",
       "    <tr>\n",
       "      <td>253</td>\n",
       "      <td>739310</td>\n",
       "      <td>27.158157</td>\n",
       "      <td>252</td>\n",
       "      <td>2021-09-05T23:48:50.427898</td>\n",
       "      <td>100.000</td>\n",
       "    </tr>\n",
       "    <tr>\n",
       "      <td>257</td>\n",
       "      <td>174451</td>\n",
       "      <td>27.100473</td>\n",
       "      <td>256</td>\n",
       "      <td>2021-09-05T23:48:31.589317</td>\n",
       "      <td>125.000</td>\n",
       "    </tr>\n",
       "    <tr>\n",
       "      <td>259</td>\n",
       "      <td>1239622</td>\n",
       "      <td>27.097005</td>\n",
       "      <td>258</td>\n",
       "      <td>2021-09-04T18:51:27.700334</td>\n",
       "      <td>50.000</td>\n",
       "    </tr>\n",
       "  </tbody>\n",
       "</table>\n",
       "</div>"
      ],
      "text/plain": [
       "      lootId      score  rarest         listing_create_date  price_ETH\n",
       "18   1302577  34.566702      19  2021-09-04T19:42:56.734914      2.000\n",
       "31    458638  32.395416      32  2021-09-04T20:47:27.440201      5.000\n",
       "53    100603  31.166084      54  2021-09-04T18:01:51.786994      1.000\n",
       "83     11023  29.772761      84  2021-09-05T07:40:16.311218      1.000\n",
       "84     11023  29.772761      84  2021-09-04T16:31:03.717083    100.000\n",
       "192   592440  27.780361     192  2021-09-05T13:55:21.416052      0.499\n",
       "193   592440  27.780361     192  2021-09-05T02:19:00.106353      0.500\n",
       "253   739310  27.158157     252  2021-09-05T23:48:50.427898    100.000\n",
       "257   174451  27.100473     256  2021-09-05T23:48:31.589317    125.000\n",
       "259  1239622  27.097005     258  2021-09-04T18:51:27.700334     50.000"
      ]
     },
     "execution_count": 8,
     "metadata": {},
     "output_type": "execute_result"
    }
   ],
   "source": [
    "listed_rare_ids.sort_values(['rarest', 'price_ETH'], ascending=[True, True]).head(10)"
   ]
  },
  {
   "cell_type": "code",
   "execution_count": 10,
   "metadata": {},
   "outputs": [
    {
     "data": {
      "text/html": [
       "<div>\n",
       "<style scoped>\n",
       "    .dataframe tbody tr th:only-of-type {\n",
       "        vertical-align: middle;\n",
       "    }\n",
       "\n",
       "    .dataframe tbody tr th {\n",
       "        vertical-align: top;\n",
       "    }\n",
       "\n",
       "    .dataframe thead th {\n",
       "        text-align: right;\n",
       "    }\n",
       "</style>\n",
       "<table border=\"1\" class=\"dataframe\">\n",
       "  <thead>\n",
       "    <tr style=\"text-align: right;\">\n",
       "      <th></th>\n",
       "      <th>lootId</th>\n",
       "      <th>score</th>\n",
       "      <th>rarest</th>\n",
       "      <th>listing_create_date</th>\n",
       "      <th>price_ETH</th>\n",
       "    </tr>\n",
       "  </thead>\n",
       "  <tbody>\n",
       "    <tr>\n",
       "      <td>431</td>\n",
       "      <td>289394</td>\n",
       "      <td>25.455407</td>\n",
       "      <td>430</td>\n",
       "      <td>2021-09-04T19:05:27.120251</td>\n",
       "      <td>0.20</td>\n",
       "    </tr>\n",
       "    <tr>\n",
       "      <td>417</td>\n",
       "      <td>458499</td>\n",
       "      <td>25.600583</td>\n",
       "      <td>416</td>\n",
       "      <td>2021-09-04T19:49:24.722512</td>\n",
       "      <td>25.00</td>\n",
       "    </tr>\n",
       "    <tr>\n",
       "      <td>416</td>\n",
       "      <td>623873</td>\n",
       "      <td>25.603965</td>\n",
       "      <td>415</td>\n",
       "      <td>2021-09-04T21:04:45.127918</td>\n",
       "      <td>0.75</td>\n",
       "    </tr>\n",
       "    <tr>\n",
       "      <td>414</td>\n",
       "      <td>592469</td>\n",
       "      <td>25.625570</td>\n",
       "      <td>413</td>\n",
       "      <td>2021-09-04T22:06:20.392662</td>\n",
       "      <td>5.00</td>\n",
       "    </tr>\n",
       "    <tr>\n",
       "      <td>402</td>\n",
       "      <td>293811</td>\n",
       "      <td>25.701544</td>\n",
       "      <td>401</td>\n",
       "      <td>2021-09-04T22:06:30.964670</td>\n",
       "      <td>10.00</td>\n",
       "    </tr>\n",
       "    <tr>\n",
       "      <td>401</td>\n",
       "      <td>156394</td>\n",
       "      <td>25.711497</td>\n",
       "      <td>400</td>\n",
       "      <td>2021-09-04T22:08:38.107081</td>\n",
       "      <td>15.00</td>\n",
       "    </tr>\n",
       "    <tr>\n",
       "      <td>394</td>\n",
       "      <td>927514</td>\n",
       "      <td>25.778566</td>\n",
       "      <td>393</td>\n",
       "      <td>2021-09-05T23:47:26.045386</td>\n",
       "      <td>100.00</td>\n",
       "    </tr>\n",
       "    <tr>\n",
       "      <td>365</td>\n",
       "      <td>471213</td>\n",
       "      <td>25.952189</td>\n",
       "      <td>364</td>\n",
       "      <td>2021-09-05T13:36:51.628491</td>\n",
       "      <td>2.00</td>\n",
       "    </tr>\n",
       "    <tr>\n",
       "      <td>343</td>\n",
       "      <td>921184</td>\n",
       "      <td>26.231792</td>\n",
       "      <td>342</td>\n",
       "      <td>2021-09-05T23:48:05.902167</td>\n",
       "      <td>100.00</td>\n",
       "    </tr>\n",
       "    <tr>\n",
       "      <td>289</td>\n",
       "      <td>1096792</td>\n",
       "      <td>26.782921</td>\n",
       "      <td>288</td>\n",
       "      <td>2021-09-05T23:49:12.611890</td>\n",
       "      <td>100.00</td>\n",
       "    </tr>\n",
       "  </tbody>\n",
       "</table>\n",
       "</div>"
      ],
      "text/plain": [
       "      lootId      score  rarest         listing_create_date  price_ETH\n",
       "431   289394  25.455407     430  2021-09-04T19:05:27.120251       0.20\n",
       "417   458499  25.600583     416  2021-09-04T19:49:24.722512      25.00\n",
       "416   623873  25.603965     415  2021-09-04T21:04:45.127918       0.75\n",
       "414   592469  25.625570     413  2021-09-04T22:06:20.392662       5.00\n",
       "402   293811  25.701544     401  2021-09-04T22:06:30.964670      10.00\n",
       "401   156394  25.711497     400  2021-09-04T22:08:38.107081      15.00\n",
       "394   927514  25.778566     393  2021-09-05T23:47:26.045386     100.00\n",
       "365   471213  25.952189     364  2021-09-05T13:36:51.628491       2.00\n",
       "343   921184  26.231792     342  2021-09-05T23:48:05.902167     100.00\n",
       "289  1096792  26.782921     288  2021-09-05T23:49:12.611890     100.00"
      ]
     },
     "execution_count": 10,
     "metadata": {},
     "output_type": "execute_result"
    }
   ],
   "source": [
    "listed_rare_ids.sort_values(['rarest', 'price_ETH'], ascending=[False, True]).head(10)"
   ]
  },
  {
   "cell_type": "code",
   "execution_count": 9,
   "metadata": {},
   "outputs": [
    {
     "data": {
      "text/plain": [
       "26"
      ]
     },
     "execution_count": 9,
     "metadata": {},
     "output_type": "execute_result"
    }
   ],
   "source": [
    "sns."
   ]
  },
  {
   "cell_type": "code",
   "execution_count": 13,
   "metadata": {},
   "outputs": [
    {
     "name": "stdout",
     "output_type": "stream",
     "text": [
      "https://eth-mainnet.alchemyapi.io/v2/Sq3Q3A7autnGe9CAYoAKysaGmE_YslMQ\n"
     ]
    }
   ],
   "source": []
  },
  {
   "cell_type": "markdown",
   "metadata": {},
   "source": [
    "### **Getting all listings for a collection..**"
   ]
  },
  {
   "cell_type": "markdown",
   "metadata": {},
   "source": [
    "#### **Need to work on this yet.. not sure if it's worth once I have the above method already working..**"
   ]
  },
  {
   "cell_type": "code",
   "execution_count": null,
   "metadata": {},
   "outputs": [],
   "source": [
    "# import requests\n",
    "\n",
    "# def make_asset_query(offset_:str=\"0\"):\n",
    "#     url = \"https://api.opensea.io/api/v1/assets\"\n",
    "#     querystring = {\"asset_contract_address\":\"0x1dfe7Ca09e99d10835Bf73044a23B73Fc20623DF\",\n",
    "#                    \"order_by\": \"pk\",\n",
    "#                    \"order_direction\":\"desc\",\n",
    "#                    \"offset\":offset_,\n",
    "#                    \"limit\":\"50\"}\n",
    "\n",
    "#     headers = {\"Accept\": \"application/json\"}\n",
    "\n",
    "#     response = requests.request(\"GET\", url, headers=headers, params=querystring)\n",
    "#     print(response.text)\n",
    "#     return json.loads(response.text)"
   ]
  },
  {
   "cell_type": "code",
   "execution_count": null,
   "metadata": {},
   "outputs": [],
   "source": []
  },
  {
   "cell_type": "code",
   "execution_count": null,
   "metadata": {},
   "outputs": [],
   "source": []
  }
 ],
 "metadata": {
  "kernelspec": {
   "display_name": "Python 3",
   "language": "python",
   "name": "python3"
  },
  "language_info": {
   "codemirror_mode": {
    "name": "ipython",
    "version": 3
   },
   "file_extension": ".py",
   "mimetype": "text/x-python",
   "name": "python",
   "nbconvert_exporter": "python",
   "pygments_lexer": "ipython3",
   "version": "3.7.4"
  }
 },
 "nbformat": 4,
 "nbformat_minor": 4
}
